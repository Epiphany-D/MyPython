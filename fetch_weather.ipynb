{
 "cells": [
  {
   "cell_type": "code",
   "execution_count": 5,
   "metadata": {
    "ExecuteTime": {
     "end_time": "2021-03-31T15:53:02.755626Z",
     "start_time": "2021-03-31T15:53:02.742088Z"
    }
   },
   "outputs": [
    {
     "ename": "ModuleNotFoundError",
     "evalue": "No module named 'haversine'",
     "output_type": "error",
     "traceback": [
      "\u001b[1;31m---------------------------------------------------------------------------\u001b[0m",
      "\u001b[1;31mModuleNotFoundError\u001b[0m                       Traceback (most recent call last)",
      "\u001b[1;32m<ipython-input-5-2f7148244bf8>\u001b[0m in \u001b[0;36m<module>\u001b[1;34m\u001b[0m\n\u001b[0;32m      2\u001b[0m \u001b[1;32mimport\u001b[0m \u001b[0mjson\u001b[0m\u001b[1;33m\u001b[0m\u001b[1;33m\u001b[0m\u001b[0m\n\u001b[0;32m      3\u001b[0m \u001b[1;32mfrom\u001b[0m \u001b[0mpprint\u001b[0m \u001b[1;32mimport\u001b[0m \u001b[0mpprint\u001b[0m\u001b[1;33m\u001b[0m\u001b[1;33m\u001b[0m\u001b[0m\n\u001b[1;32m----> 4\u001b[1;33m \u001b[1;32mfrom\u001b[0m \u001b[0mhaversine\u001b[0m \u001b[1;32mimport\u001b[0m \u001b[0mhaversine\u001b[0m\u001b[1;33m\u001b[0m\u001b[1;33m\u001b[0m\u001b[0m\n\u001b[0m",
      "\u001b[1;31mModuleNotFoundError\u001b[0m: No module named 'haversine'"
     ]
    }
   ],
   "source": [
    "from requests import get\n",
    "import json\n",
    "from pprint import pprint\n",
    "from haversine import haversine"
   ]
  },
  {
   "cell_type": "code",
   "execution_count": null,
   "metadata": {},
   "outputs": [],
   "source": []
  },
  {
   "cell_type": "code",
   "execution_count": null,
   "metadata": {},
   "outputs": [],
   "source": []
  },
  {
   "cell_type": "code",
   "execution_count": null,
   "metadata": {},
   "outputs": [],
   "source": []
  },
  {
   "cell_type": "code",
   "execution_count": null,
   "metadata": {},
   "outputs": [],
   "source": []
  },
  {
   "cell_type": "code",
   "execution_count": 2,
   "metadata": {
    "ExecuteTime": {
     "end_time": "2021-03-31T15:40:43.324485Z",
     "start_time": "2021-03-31T15:40:43.316430Z"
    }
   },
   "outputs": [],
   "source": [
    "stations = 'https://apex.oracle.com/pls/apex/raspberrypi/weatherstation/getallstations'\n",
    "weather = 'https://apex.oracle.com/pls/apex/raspberrypi/weatherstation/getlatestmeasurements/'"
   ]
  },
  {
   "cell_type": "code",
   "execution_count": 1,
   "metadata": {
    "ExecuteTime": {
     "end_time": "2021-03-31T15:52:11.359947Z",
     "start_time": "2021-03-31T15:52:11.351706Z"
    }
   },
   "outputs": [],
   "source": [
    "my_lat = 43.802213\n",
    "my_lon = 125.421006"
   ]
  },
  {
   "cell_type": "code",
   "execution_count": null,
   "metadata": {},
   "outputs": [],
   "source": []
  },
  {
   "cell_type": "code",
   "execution_count": 3,
   "metadata": {
    "ExecuteTime": {
     "end_time": "2021-03-31T15:40:51.123062Z",
     "start_time": "2021-03-31T15:40:44.489256Z"
    }
   },
   "outputs": [
    {
     "name": "stdout",
     "output_type": "stream",
     "text": [
      "[{'air_pressure': 1007.37,\n",
      "  'air_quality': 74.88,\n",
      "  'ambient_temp': 28.25,\n",
      "  'created_by': 'ACRG_ROOF',\n",
      "  'created_on': '2017-08-23T14:55:37Z',\n",
      "  'ground_temp': 29.94,\n",
      "  'humidity': 43.84,\n",
      "  'id': 5483828,\n",
      "  'rainfall': 0,\n",
      "  'reading_timestamp': '2017-08-23T14:55:37Z',\n",
      "  'updated_by': 'ACRG_ROOF',\n",
      "  'updated_on': '2017-08-23T19:13:10.578Z',\n",
      "  'weather_stn_id': 1648902,\n",
      "  'wind_direction': 358.05,\n",
      "  'wind_gust_speed': 14.89,\n",
      "  'wind_speed': 0}]\n"
     ]
    }
   ],
   "source": [
    "weather = get(url).json()['items']\n",
    "pprint(weather)"
   ]
  },
  {
   "cell_type": "code",
   "execution_count": null,
   "metadata": {},
   "outputs": [],
   "source": []
  },
  {
   "cell_type": "code",
   "execution_count": null,
   "metadata": {},
   "outputs": [],
   "source": []
  }
 ],
 "metadata": {
  "kernelspec": {
   "display_name": "Python 3",
   "language": "python",
   "name": "python3"
  },
  "language_info": {
   "codemirror_mode": {
    "name": "ipython",
    "version": 3
   },
   "file_extension": ".py",
   "mimetype": "text/x-python",
   "name": "python",
   "nbconvert_exporter": "python",
   "pygments_lexer": "ipython3",
   "version": "3.8.3"
  },
  "toc": {
   "base_numbering": 1,
   "nav_menu": {},
   "number_sections": true,
   "sideBar": true,
   "skip_h1_title": false,
   "title_cell": "Table of Contents",
   "title_sidebar": "Contents",
   "toc_cell": false,
   "toc_position": {},
   "toc_section_display": true,
   "toc_window_display": false
  }
 },
 "nbformat": 4,
 "nbformat_minor": 4
}
