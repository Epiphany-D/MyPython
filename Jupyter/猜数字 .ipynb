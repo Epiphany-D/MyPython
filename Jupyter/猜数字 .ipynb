{
 "cells": [
  {
   "cell_type": "code",
   "execution_count": null,
   "metadata": {
    "ExecuteTime": {
     "start_time": "2020-09-25T08:52:23.285Z"
    }
   },
   "outputs": [
    {
     "name": "stdout",
     "output_type": "stream",
     "text": [
      "猜一个数字：50\n",
      "你猜的数太大了,答案在0和50之间\n",
      "猜一个数字：25\n",
      "你猜的数太大了,答案在0和25之间\n",
      "猜一个数字：18\n",
      "你猜的数太大了,答案在0和18之间\n",
      "猜一个数字：9\n",
      "你猜的数太小了,答案在9和18之间\n",
      "猜一个数字：14\n",
      "你猜的数太小了,答案在14和18之间\n",
      "猜一个数字：16\n",
      "恭喜你，猜中了！\n",
      "你总共猜了6次，真菜！\n",
      "还要再玩一次吗？(Y/N)Y\n"
     ]
    }
   ],
   "source": [
    "# 程序5-3\n",
    "import random\n",
    "\n",
    "game_count = 0\n",
    "all_count = []\n",
    "while True:\n",
    "    game_count += 1\n",
    "    guess_count = 0\n",
    "    answer = random.randint(0, 100)\n",
    "    LowNumber = 0\n",
    "    TopNumber = 99\n",
    "    while True:\n",
    "        guess = int(input(\"猜一个数字：\"))\n",
    "        guess_count += 1\n",
    "        if guess == answer:\n",
    "            print(\"恭喜你，猜中了！\")\n",
    "            print(f\"你总共猜了{guess_count}次，真菜！\")\n",
    "            all_count.append(guess_count)\n",
    "            break\n",
    "        elif guess < answer:\n",
    "            LowNumber = guess\n",
    "            print(f\"你猜的数太小了,答案在{LowNumber}和{TopNumber}之间\")\n",
    "        else:\n",
    "            TopNumber = guess\n",
    "            print(f\"你猜的数太大了,答案在{LowNumber}和{TopNumber}之间\")\n",
    "    onemore = input(\"还要再玩一次吗？(Y/N)\")\n",
    "    if onemore != 'y' and onemore != 'Y':\n",
    "        print(\"欢迎下次再玩，你的成绩是\")\n",
    "        print(all_count)\n",
    "        print(f'平均猜中所用次数为' + str(sum(all_count)/float(len(all_count))))\n",
    "        break"
   ]
  },
  {
   "cell_type": "code",
   "execution_count": null,
   "metadata": {},
   "outputs": [],
   "source": []
  }
 ],
 "metadata": {
  "kernelspec": {
   "name": "python3",
   "display_name": "Python 3.8.3 64-bit (conda)",
   "metadata": {
    "interpreter": {
     "hash": "cf409e1e5c80e0d0950a76ec62bf1ace0f187fd082921def2e154599d2d6695e"
    }
   }
  },
  "language_info": {
   "codemirror_mode": {
    "name": "ipython",
    "version": 3
   },
   "file_extension": ".py",
   "mimetype": "text/x-python",
   "name": "python",
   "nbconvert_exporter": "python",
   "pygments_lexer": "ipython3",
   "version": "3.8.3-final"
  },
  "toc": {
   "base_numbering": 1,
   "nav_menu": {},
   "number_sections": true,
   "sideBar": true,
   "skip_h1_title": false,
   "title_cell": "Table of Contents",
   "title_sidebar": "Contents",
   "toc_cell": false,
   "toc_position": {},
   "toc_section_display": true,
   "toc_window_display": false
  },
  "varInspector": {
   "cols": {
    "lenName": 16,
    "lenType": 16,
    "lenVar": 40
   },
   "kernels_config": {
    "python": {
     "delete_cmd_postfix": "",
     "delete_cmd_prefix": "del ",
     "library": "var_list.py",
     "varRefreshCmd": "print(var_dic_list())"
    },
    "r": {
     "delete_cmd_postfix": ") ",
     "delete_cmd_prefix": "rm(",
     "library": "var_list.r",
     "varRefreshCmd": "cat(var_dic_list()) "
    }
   },
   "position": {
    "height": "144.667px",
    "left": "908px",
    "right": "20px",
    "top": "76px",
    "width": "350px"
   },
   "types_to_exclude": [
    "module",
    "function",
    "builtin_function_or_method",
    "instance",
    "_Feature"
   ],
   "window_display": true
  }
 },
 "nbformat": 4,
 "nbformat_minor": 4
}