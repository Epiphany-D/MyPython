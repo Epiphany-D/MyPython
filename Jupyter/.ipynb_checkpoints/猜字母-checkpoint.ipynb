{
 "cells": [
  {
   "cell_type": "markdown",
   "metadata": {},
   "source": [
    "### 功能\n",
    "\n",
    "* 显示当前共有多少人次在进行游戏\n",
    "* 最短猜中次数\n",
    "* 最长猜中次数\n",
    "* 一共猜测次数\n",
    "* 未猜对中途退出的次数\n",
    "* 在文件中读写数据\n",
    "* 设置什么方式来退出\n",
    "* 退出前在文件中有数据记录"
   ]
  },
  {
   "cell_type": "code",
   "execution_count": 1,
   "metadata": {
    "ExecuteTime": {
     "end_time": "2020-12-13T00:40:51.642888Z",
     "start_time": "2020-12-13T00:40:51.639896Z"
    }
   },
   "outputs": [],
   "source": [
    "# 猜字母\n",
    "import random"
   ]
  },
  {
   "cell_type": "code",
   "execution_count": 7,
   "metadata": {
    "ExecuteTime": {
     "end_time": "2020-12-13T00:46:58.506365Z",
     "start_time": "2020-12-13T00:46:58.501377Z"
    }
   },
   "outputs": [],
   "source": [
    "def reset():\n",
    "    global PlayTimes\n",
    "    global Times\n",
    "    global s_times\n",
    "    global l_times\n",
    "    global Exit_times\n",
    "    PlayTimes = 0\n",
    "    Times = 0\n",
    "    s_times = 999\n",
    "    l_times = 0\n",
    "    Exit_times = 0\n",
    "    writeData()"
   ]
  },
  {
   "cell_type": "markdown",
   "metadata": {},
   "source": [
    "* Player_num 记录当前游戏人数\n",
    "* Times 记录共猜测多少次\n",
    "* s_times 记录最短的猜测次数\n",
    "* l_times 记录最长的猜测次数\n",
    "* 中途退出输入#号，再输入y进行确认\n",
    "* Exit_times ++ 记录中途退出的次数"
   ]
  },
  {
   "cell_type": "code",
   "execution_count": 3,
   "metadata": {
    "ExecuteTime": {
     "end_time": "2020-12-13T00:40:51.657848Z",
     "start_time": "2020-12-13T00:40:51.651865Z"
    }
   },
   "outputs": [],
   "source": [
    "def writeData():\n",
    "    with open('data.txt', 'w') as f:\n",
    "        f.write('当前游玩次数为：{}\\n'.format(PlayTimes))\n",
    "        f.write('当前猜测次数为：{}\\n'.format(Times))\n",
    "        f.write('玩家最少猜测次数为：{}\\n'.format(s_times))\n",
    "        f.write('玩家最多猜测次数为：{}\\n'.format(l_times))\n",
    "        f.write('玩家中途退出次数为：{}\\n'.format(Exit_times))"
   ]
  },
  {
   "cell_type": "markdown",
   "metadata": {},
   "source": [
    "输入到文件时遇到错误，最后采用了format格式化+\\n的形式"
   ]
  },
  {
   "cell_type": "code",
   "execution_count": 4,
   "metadata": {
    "ExecuteTime": {
     "end_time": "2020-12-13T00:40:51.664830Z",
     "start_time": "2020-12-13T00:40:51.658845Z"
    }
   },
   "outputs": [],
   "source": [
    "def printData():\n",
    "    with open('data.txt', 'r') as f:\n",
    "        print(f.read())"
   ]
  },
  {
   "cell_type": "code",
   "execution_count": 8,
   "metadata": {
    "ExecuteTime": {
     "end_time": "2020-12-13T00:47:14.570032Z",
     "start_time": "2020-12-13T00:47:14.564023Z"
    }
   },
   "outputs": [],
   "source": [
    "def menu():\n",
    "    coz = int(input(\"\\n请输入数字以选择功能（1：查看相关数据。2：初始化相关数据。3:查看答案。4：退出游戏）：\"))\n",
    "    if coz == 1:\n",
    "        printData()\n",
    "    elif coz == 2:\n",
    "        reset()\n",
    "        printData()\n",
    "        print(\"初始化成功\\n\")\n",
    "    elif coz == 3:\n",
    "        global ans\n",
    "        print(\"答案为:\", ans, \"\\n\")\n",
    "    elif coz == 4:\n",
    "        exitflag = input(\"是否退出？（Y/N）:\")\n",
    "        if exitflag == 'n' or exitflag == 'N':\n",
    "            print(\"取消退出\\n\")\n",
    "        else:\n",
    "            global Exit_times\n",
    "            Exit_times = Exit_times + 1\n",
    "            writeData()\n",
    "            printData()\n",
    "            return -1"
   ]
  },
  {
   "cell_type": "code",
   "execution_count": 9,
   "metadata": {
    "ExecuteTime": {
     "end_time": "2020-12-13T00:49:44.891937Z",
     "start_time": "2020-12-13T00:48:45.679507Z"
    }
   },
   "outputs": [
    {
     "name": "stdout",
     "output_type": "stream",
     "text": [
      "\n",
      "----猜字母游戏开始啦！----\n",
      "\n",
      "请按照要求输入猜测的字母，按‘#’键进入菜单\n",
      "请输入猜测的字母(大写字母）：#\n",
      "\n",
      "请输入数字以选择功能（1：查看相关数据。2：初始化相关数据。3:查看答案。4：退出游戏）：4\n",
      "是否退出？（Y/N）:y\n",
      "当前游玩次数为：1\n",
      "当前猜测次数为：0\n",
      "玩家最少猜测次数为：999\n",
      "玩家最多猜测次数为：0\n",
      "玩家中途退出次数为：1\n",
      "\n",
      "本轮游戏结束啦！即将进行下一轮游戏，是否继续？（Y/N)y\n",
      "\n",
      "----游戏继续----\n",
      "\n",
      "请按照要求输入猜测的字母，按‘#’键进入菜单\n",
      "请输入猜测的字母(大写字母）：E\n",
      "猜错了！你应该往E之后猜\n",
      "\n",
      "请按照要求输入猜测的字母，按‘#’键进入菜单\n",
      "请输入猜测的字母(大写字母）：G\n",
      "猜错了！你应该往G之后猜\n",
      "\n",
      "请按照要求输入猜测的字母，按‘#’键进入菜单\n",
      "请输入猜测的字母(大写字母）：Z\n",
      "猜错了！你应该往Z之前猜\n",
      "\n",
      "请按照要求输入猜测的字母，按‘#’键进入菜单\n",
      "请输入猜测的字母(大写字母）：e\n",
      "请输入大写字母！\n",
      "\n",
      "请按照要求输入猜测的字母，按‘#’键进入菜单\n",
      "请输入猜测的字母(大写字母）：ef\n",
      "请输入单个字母！\n",
      "\n",
      "请按照要求输入猜测的字母，按‘#’键进入菜单\n",
      "请输入猜测的字母(大写字母）：32\n",
      "请输入单个字母！\n",
      "\n",
      "请按照要求输入猜测的字母，按‘#’键进入菜单\n",
      "请输入猜测的字母(大写字母）：\n",
      "请输入单个字母！\n",
      "\n",
      "请按照要求输入猜测的字母，按‘#’键进入菜单\n",
      "请输入猜测的字母(大写字母）：#\n",
      "\n",
      "请输入数字以选择功能（1：查看相关数据。2：初始化相关数据。3:查看答案。4：退出游戏）：3\n",
      "答案为: S \n",
      "\n",
      "请按照要求输入猜测的字母，按‘#’键进入菜单\n",
      "请输入猜测的字母(大写字母）：S\n",
      "太厉害了，你仅用了4次就猜出了正确答案！是现在最快猜出答案的人！\n",
      "\n",
      "当前游玩次数为：2\n",
      "当前猜测次数为：4\n",
      "玩家最少猜测次数为：4\n",
      "玩家最多猜测次数为：4\n",
      "玩家中途退出次数为：1\n",
      "\n",
      "本轮游戏结束啦！即将进行下一轮游戏，是否继续？（Y/N)y\n",
      "\n",
      "----游戏继续----\n",
      "\n",
      "请按照要求输入猜测的字母，按‘#’键进入菜单\n",
      "请输入猜测的字母(大写字母）：#\n",
      "\n",
      "请输入数字以选择功能（1：查看相关数据。2：初始化相关数据。3:查看答案。4：退出游戏）：3\n",
      "答案为: A \n",
      "\n",
      "请按照要求输入猜测的字母，按‘#’键进入菜单\n",
      "请输入猜测的字母(大写字母）：A\n",
      "太厉害了，你仅用了1次就猜出了正确答案！是现在最快猜出答案的人！\n",
      "\n",
      "恭喜你！猜测了1次以后得出了正确的结果！\n",
      "\n",
      "当前游玩次数为：3\n",
      "当前猜测次数为：1\n",
      "玩家最少猜测次数为：1\n",
      "玩家最多猜测次数为：4\n",
      "玩家中途退出次数为：1\n",
      "\n",
      "本轮游戏结束啦！即将进行下一轮游戏，是否继续？（Y/N)N\n",
      "\n",
      "\n",
      "----游戏结束----\n",
      "\n",
      "\n"
     ]
    }
   ],
   "source": [
    "reset()\n",
    "# readData()\n",
    "print(\"\\n----猜字母游戏开始啦！----\\n\")\n",
    "while True:\n",
    "    PlayTimes += 1\n",
    "    Times = 0\n",
    "    # 设置答案\n",
    "    ans_int = random.randint(65, 90)\n",
    "    ans = chr(ans_int)\n",
    "    writeData()\n",
    "    while True:\n",
    "        print(\"请按照要求输入猜测的字母，按‘#’键进入菜单\")\n",
    "        try:\n",
    "            ges = input(\"请输入猜测的字母(大写字母）：\")\n",
    "            if ges == '#':\n",
    "                a = menu()\n",
    "                if(a == -1):\n",
    "                    break\n",
    "            elif ord(ges) > 91 or ord(ges) < 65:\n",
    "                print(\"请输入大写字母！\\n\")\n",
    "            elif ord(ges) == ord(ans):\n",
    "                flag = 0\n",
    "                Times = Times + 1\n",
    "                writeData()\n",
    "                if Times < s_times:\n",
    "                    s_times = Times\n",
    "                    print(\"太厉害了，你仅用了{}次就猜出了正确答案！是现在最快猜出答案的人！\\n\".format(s_times))\n",
    "                    flag = 1\n",
    "                if Times > l_times:\n",
    "                    l_times = Times\n",
    "                    if flag == 1:\n",
    "                        flag = 0\n",
    "                    else:\n",
    "                        print(\"你猜了{}次才猜出正确答案，是现在最慢猜出答案的人。\\n\".format(l_times))\n",
    "                else:\n",
    "                    print(\"恭喜你！猜测了{}次以后得出了正确的结果！\\n\".format(Times))\n",
    "                writeData()\n",
    "                printData()\n",
    "                break\n",
    "            elif ord(ges) < ord(ans):\n",
    "                print(\"猜错了！你应该往{}之后猜\\n\".format(ges))\n",
    "                Times = Times+1\n",
    "            elif ord(ges) > ord(ans):\n",
    "                print(\"猜错了！你应该往{}之前猜\\n\".format(ges))\n",
    "                Times = Times+1\n",
    "        # try\n",
    "        except:\n",
    "            print(\"请输入单个字母！\\n\")\n",
    "        writeData()\n",
    "    # while\n",
    "    continueflag = input(\"本轮游戏结束啦！即将进行下一轮游戏，是否继续？（Y/N)\")\n",
    "    if continueflag == 'n' or continueflag == 'N':\n",
    "        print()\n",
    "        print(\"\\n----游戏结束----\\n\")\n",
    "        print()\n",
    "        break\n",
    "    else:\n",
    "        print(\"\\n----游戏继续----\\n\")"
   ]
  }
 ],
 "metadata": {
  "kernelspec": {
   "display_name": "Python 3",
   "language": "python",
   "name": "python3"
  },
  "language_info": {
   "codemirror_mode": {
    "name": "ipython",
    "version": 3
   },
   "file_extension": ".py",
   "mimetype": "text/x-python",
   "name": "python",
   "nbconvert_exporter": "python",
   "pygments_lexer": "ipython3",
   "version": "3.8.3"
  },
  "toc": {
   "base_numbering": 1,
   "nav_menu": {},
   "number_sections": true,
   "sideBar": true,
   "skip_h1_title": false,
   "title_cell": "Table of Contents",
   "title_sidebar": "Contents",
   "toc_cell": false,
   "toc_position": {},
   "toc_section_display": true,
   "toc_window_display": false
  }
 },
 "nbformat": 4,
 "nbformat_minor": 4
}
