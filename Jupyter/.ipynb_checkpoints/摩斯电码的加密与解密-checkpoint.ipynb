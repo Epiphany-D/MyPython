{
 "cells": [
  {
   "cell_type": "markdown",
   "metadata": {},
   "source": [
    "### 摩斯电码加密和解密\n",
    "* 用字典储存密钥\n",
    "* 用‘/’作为分隔符"
   ]
  },
  {
   "cell_type": "code",
   "execution_count": 9,
   "metadata": {
    "ExecuteTime": {
     "end_time": "2020-12-13T10:36:21.091426Z",
     "start_time": "2020-12-13T10:36:21.079458Z"
    }
   },
   "outputs": [],
   "source": [
    "import re\n",
    "codes = {'A': '.-', 'B': '-...', 'C': '-.-.', 'D': '-..',\n",
    "         'E': '.', 'F': '..-.', 'G': '--.', 'H': '....',\n",
    "         'I': '..', 'J': '.---', 'K': '-.-', 'L': '.-..',\n",
    "         'M': '--', 'N': '-.', 'O': '---', 'P': '.--.',\n",
    "         'Q': '--.-', 'R': '.-.', 'S': '...', 'T': '-',\n",
    "         'U': '..-', 'V': '...-', 'W': '.--', 'X': '-..-',\n",
    "         'Y': '-.--', 'Z': '--..',\n",
    "         '0': '-----', '1': '.----', '2': '..---', '3': '...--',\n",
    "         '4': '....-', '5': '.....', '6': '-....', '7': '--...',\n",
    "         '8': '---..', '9': '----.',\n",
    "         '.': '.-.-.-', ':': '---...', ',': '--..--',  ';': '-.-.-.',\n",
    "         '?': '..--..', '=': '-...-',  '\\'': '.----.', '/': '-..-.',\n",
    "         '!': '-.-.--', '-': '-....-', '_': '..--.-',  '\"': '.-..-.',\n",
    "         '(': '-.--.',  ')': '-.--.-', '$': '...-..-', '&': '....',\n",
    "         '@': '.--.-.', '+': '.-.-.',\n",
    "         }\n",
    "\n",
    "decodes = {\".-\": \"A\", \"-...\": \"B\", \"-.-.\": \"C\", \"-..\": \"D\", \".\": \"E\", \"..-.\": \"F\", \"--.\": \"G\",\n",
    "           \"....\": \"H\", \"..\": \"I\", \".---\": \"J\", \"-.-\": \"K\", \".-..\": \"L\", \"--\": \"M\", \"-.\": \"N\",\n",
    "           \"---\": \"O\", \".--.\": \"P\", \"--.-\": \"Q\", \".-.\": \"R\", \"...\": \"S\", \"-\": \"T\",\n",
    "           \"..-\": \"U\", \"...-\": \"V\", \".--\": \"W\", \"-..-\": \"X\", \"-.--\": \"Y\", \"--..\": \"Z\",\n",
    "\n",
    "           \"-----\": \"0\", \".----\": \"1\", \"..---\": \"2\", \"...--\": \"3\", \"....-\": \"4\",\n",
    "           \".....\": \"5\", \"-....\": \"6\", \"--...\": \"7\", \"---..\": \"8\", \"----.\": \"9\",\n",
    "\n",
    "           \".-.-.-\": \".\", \"---...\": \":\", \"--..--\": \",\", \"-.-.-.\": \";\", \"..--..\": \"?\",\n",
    "           \"-...-\": \"=\", \".----.\": \"'\", \"-..-.\": \"/\", \"-.-.--\": \"!\", \"-....-\": \"-\",\n",
    "           \"..--.-\": \"_\", \".-..-.\": '\"', \"-.--.\": \"(\", \"-.--.-\": \")\", \"...-..-\": \"$\",\n",
    "           \".-...\": \"&\", \".--.-.\": \"@\", \".-.-.\": \"+\", \" \": \" \", \"\": \"\",\n",
    "           }"
   ]
  },
  {
   "cell_type": "markdown",
   "metadata": {},
   "source": [
    "#### 加密过程"
   ]
  },
  {
   "cell_type": "code",
   "execution_count": 10,
   "metadata": {
    "ExecuteTime": {
     "end_time": "2020-12-13T10:36:30.083563Z",
     "start_time": "2020-12-13T10:36:30.070399Z"
    }
   },
   "outputs": [],
   "source": [
    "def morsecode(code):\n",
    "    global codes\n",
    "    for s in code:\n",
    "        encry = codes.get(s.upper(), s)\n",
    "        print(encry, end='/')\n",
    "    print()"
   ]
  },
  {
   "cell_type": "markdown",
   "metadata": {},
   "source": [
    "#### 解密过程"
   ]
  },
  {
   "cell_type": "code",
   "execution_count": 11,
   "metadata": {
    "ExecuteTime": {
     "end_time": "2020-12-13T10:36:34.491918Z",
     "start_time": "2020-12-13T10:36:34.486931Z"
    }
   },
   "outputs": [],
   "source": [
    "def morsedecode(string):\n",
    "    # 分割，字符串string\n",
    "    global decodes\n",
    "    lists = string.split('/')\n",
    "    for s in lists:\n",
    "        print(decodes.get(s), end=\"\")\n",
    "    print()"
   ]
  },
  {
   "cell_type": "markdown",
   "metadata": {},
   "source": [
    "#### 菜单"
   ]
  },
  {
   "cell_type": "code",
   "execution_count": 12,
   "metadata": {
    "ExecuteTime": {
     "end_time": "2020-12-13T10:36:42.432898Z",
     "start_time": "2020-12-13T10:36:42.418905Z"
    }
   },
   "outputs": [],
   "source": [
    "def menu():\n",
    "    print(\"1：加密字符，2：解密字符\")\n",
    "    coz = input(\"请输入要选择的操作：\")\n",
    "    if coz == '1':\n",
    "        code = input(\"请输入要加密的一句英文:\")\n",
    "        print(\"加密后的文本为：\", end=\" \")\n",
    "        morsecode(code)\n",
    "    elif coz == '2':\n",
    "        decode = input(\"请输入要解密的摩斯电码：\")\n",
    "        print(\"解密后的文本为\", end=\" \")\n",
    "        morsedecode(decode)\n",
    "    else:\n",
    "        print(\"请输入正确的数字！\")"
   ]
  },
  {
   "cell_type": "markdown",
   "metadata": {},
   "source": [
    "#### 主体"
   ]
  },
  {
   "cell_type": "code",
   "execution_count": 15,
   "metadata": {
    "ExecuteTime": {
     "end_time": "2020-12-13T10:58:22.923056Z",
     "start_time": "2020-12-13T10:41:46.076113Z"
    }
   },
   "outputs": [
    {
     "name": "stdout",
     "output_type": "stream",
     "text": [
      "1：加密字符，2：解密字符，3：退出\n",
      "请输入要选择的操作：1\n",
      "请输入要加密的一句英文:this id 阿凡达\n",
      "加密后的文本为： -/..../../.../ /../-../ /阿/凡/达/\n",
      "1：加密字符，2：解密字符，3：退出\n",
      "请输入要选择的操作：1\n",
      "请输入要加密的一句英文:this is a string\n",
      "加密后的文本为： -/..../../.../ /../.../ /.-/ /.../-/.-./../-./--./\n",
      "1：加密字符，2：解密字符，3：退出\n",
      "请输入要选择的操作：2\n",
      "请输入要解密的摩斯电码：-/..../../.../ /../.../ /.-/ /.../-/.-./../-./--./\n",
      "解密后的文本为 THIS IS A STRING\n",
      "1：加密字符，2：解密字符，3：退出\n",
      "请输入要选择的操作：3\n"
     ]
    }
   ],
   "source": [
    "# 主体\n",
    "try:\n",
    "    while(True):\n",
    "        flag = menu()\n",
    "        if flag == -1:\n",
    "            break\n",
    "except EOFError:\n",
    "    pass"
   ]
  },
  {
   "cell_type": "markdown",
   "metadata": {},
   "source": [
    "#### 问题：\n",
    "* 不能识别汉字\n",
    "* 不能区分大小写\n",
    "* 密钥没有存在文件里"
   ]
  },
  {
   "cell_type": "code",
   "execution_count": 21,
   "metadata": {
    "ExecuteTime": {
     "end_time": "2020-12-13T11:50:14.281972Z",
     "start_time": "2020-12-13T11:50:14.276990Z"
    }
   },
   "outputs": [],
   "source": [
    "AllowChar = \"ABCDEFGHIJKLMNOPQRSTUVWXYZabcdefghijklmnopqrstuvwxyz0123456789,.:;?='/!-_\\\"()$&@+ \""
   ]
  },
  {
   "cell_type": "code",
   "execution_count": 22,
   "metadata": {
    "ExecuteTime": {
     "end_time": "2020-12-13T11:50:16.102189Z",
     "start_time": "2020-12-13T11:50:16.095203Z"
    }
   },
   "outputs": [],
   "source": [
    "def morsecode():\n",
    "    print(\"\\n----加密----\")\n",
    "    code = input(\"请输入要加密的一句英文:\")\n",
    "    global codes\n",
    "    encry = \"\"\n",
    "    alphe_error = False\n",
    "    for s in code:\n",
    "        if AllowChar.find(s) == -1:\n",
    "            alphe_error = True\n",
    "        else:\n",
    "            encry = encry + codes.get(s.upper(), s) + '/'\n",
    "        # print(encry, end='/')\n",
    "    # encry = \"\"\n",
    "    if alphe_error:\n",
    "        print(\"错误！请输入英文字母、数字或标点符号！\\n退出加密过程\\n\")\n",
    "    else:\n",
    "        print(\"加密后的文本为：\", encry,\"\\n\")"
   ]
  },
  {
   "cell_type": "code",
   "execution_count": 23,
   "metadata": {
    "ExecuteTime": {
     "end_time": "2020-12-13T11:50:19.289861Z",
     "start_time": "2020-12-13T11:50:19.284842Z"
    }
   },
   "outputs": [],
   "source": [
    "def morsedecode():\n",
    "    print(\"\\n----解密----\")\n",
    "    decode = input(\"请输入要解密的摩斯电码：\")\n",
    "    global decodes\n",
    "    decry = \"\"\n",
    "    lists = decode.split('/')\n",
    "    try:\n",
    "        for s in lists:\n",
    "            decry = decry + decodes.get(s)\n",
    "    except:\n",
    "        print(\"错误！请输入正确的摩斯电码！\\n\")\n",
    "        return\n",
    "    print(\"解密后的文本为：\",decry,\"\\n\")"
   ]
  },
  {
   "cell_type": "code",
   "execution_count": 24,
   "metadata": {
    "ExecuteTime": {
     "end_time": "2020-12-13T11:50:23.985742Z",
     "start_time": "2020-12-13T11:50:23.978761Z"
    }
   },
   "outputs": [],
   "source": [
    "def menu():\n",
    "    print(\"----菜单----\")\n",
    "    print(\"1：加密字符，2：解密字符，3：退出\")\n",
    "    coz = input(\"请输入要选择的操作：\")\n",
    "    if coz == '1':\n",
    "        morsecode()\n",
    "    elif coz == '2':\n",
    "        morsedecode()\n",
    "    elif coz == '3':\n",
    "        return -1\n",
    "    else:\n",
    "        print(\"请输入正确的数字！\\n\")"
   ]
  },
  {
   "cell_type": "code",
   "execution_count": 25,
   "metadata": {
    "ExecuteTime": {
     "end_time": "2020-12-13T11:51:19.604125Z",
     "start_time": "2020-12-13T11:50:26.761449Z"
    }
   },
   "outputs": [
    {
     "name": "stdout",
     "output_type": "stream",
     "text": [
      "----菜单----\n",
      "1：加密字符，2：解密字符，3：退出\n",
      "请输入要选择的操作：1\n",
      "\n",
      "----加密----\n",
      "请输入要加密的一句英文:asd\n",
      "加密后的文本为： .-/.../-../ \n",
      "\n",
      "----菜单----\n",
      "1：加密字符，2：解密字符，3：退出\n",
      "请输入要选择的操作：1\n",
      "\n",
      "----加密----\n",
      "请输入要加密的一句英文:汉字\n",
      "错误！请输入英文字母、数字或标点符号！\n",
      "退出加密过程\n",
      "\n",
      "----菜单----\n",
      "1：加密字符，2：解密字符，3：退出\n",
      "请输入要选择的操作：2\n",
      "\n",
      "----解密----\n",
      "请输入要解密的摩斯电码：-/..../../.../ /../.../ /.-/ /.../-/.-./../-./--./ /-.-.--/ \n",
      "解密后的文本为： THIS IS A STRING !  \n",
      "\n",
      "----菜单----\n",
      "1：加密字符，2：解密字符，3：退出\n",
      "请输入要选择的操作：2\n",
      "\n",
      "----解密----\n",
      "请输入要解密的摩斯电码：汉字\n",
      "错误！请输入正确的摩斯电码！\n",
      "\n",
      "----菜单----\n",
      "1：加密字符，2：解密字符，3：退出\n",
      "请输入要选择的操作：3\n"
     ]
    }
   ],
   "source": [
    "# 主体\n",
    "try:\n",
    "    while(True):\n",
    "        flag = menu()\n",
    "        if flag == -1:\n",
    "            break\n",
    "except EOFError:\n",
    "    pass"
   ]
  },
  {
   "cell_type": "markdown",
   "metadata": {},
   "source": [
    "通过AllowChar解决了非法字符的问题（或者用异常捕获）"
   ]
  }
 ],
 "metadata": {
  "kernelspec": {
   "display_name": "Python 3",
   "language": "python",
   "name": "python3"
  },
  "language_info": {
   "codemirror_mode": {
    "name": "ipython",
    "version": 3
   },
   "file_extension": ".py",
   "mimetype": "text/x-python",
   "name": "python",
   "nbconvert_exporter": "python",
   "pygments_lexer": "ipython3",
   "version": "3.8.3"
  },
  "toc": {
   "base_numbering": 1,
   "nav_menu": {},
   "number_sections": true,
   "sideBar": true,
   "skip_h1_title": false,
   "title_cell": "Table of Contents",
   "title_sidebar": "Contents",
   "toc_cell": false,
   "toc_position": {},
   "toc_section_display": true,
   "toc_window_display": false
  }
 },
 "nbformat": 4,
 "nbformat_minor": 4
}
