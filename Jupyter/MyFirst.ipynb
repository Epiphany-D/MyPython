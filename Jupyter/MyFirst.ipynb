{
 "cells": [
  {
   "cell_type": "markdown",
   "metadata": {
    "cell_style": "split"
   },
   "source": [
    "**第一个程序**"
   ]
  },
  {
   "cell_type": "markdown",
   "metadata": {
    "cell_style": "split"
   },
   "source": [
    "**随机一个水果**"
   ]
  },
  {
   "cell_type": "code",
   "execution_count": 6,
   "metadata": {
    "ExecuteTime": {
     "end_time": "2020-09-18T04:18:13.350682Z",
     "start_time": "2020-09-18T04:18:13.346694Z"
    },
    "cell_style": "split",
    "scrolled": true
   },
   "outputs": [
    {
     "name": "stdout",
     "output_type": "stream",
     "text": [
      "hello world !\n",
      "40\n"
     ]
    }
   ],
   "source": [
    "print(\"hello world !\")\n",
    "a = 13\n",
    "b = 27\n",
    "print(a+b)"
   ]
  },
  {
   "cell_type": "code",
   "execution_count": 7,
   "metadata": {
    "ExecuteTime": {
     "end_time": "2020-09-25T09:03:18.464485Z",
     "start_time": "2020-09-25T09:03:18.458470Z"
    },
    "cell_style": "split"
   },
   "outputs": [
    {
     "name": "stdout",
     "output_type": "stream",
     "text": [
      "Today's fruit is :Banana\n"
     ]
    }
   ],
   "source": [
    "import random\n",
    "\n",
    "fruits = ['Apple','Orange','Banana','Pear','Cherry']\n",
    "cf = random.choice(fruits)\n",
    "print(\"Today's fruit is :\"+cf)"
   ]
  },
  {
   "cell_type": "markdown",
   "metadata": {
    "cell_style": "split"
   },
   "source": [
    "**获取剩余磁盘大小**"
   ]
  },
  {
   "cell_type": "markdown",
   "metadata": {
    "cell_style": "split"
   },
   "source": [
    "**字符串分割成列表**"
   ]
  },
  {
   "cell_type": "code",
   "execution_count": 23,
   "metadata": {
    "ExecuteTime": {
     "end_time": "2020-09-25T08:17:06.928177Z",
     "start_time": "2020-09-25T08:17:06.795819Z"
    },
    "cell_style": "split"
   },
   "outputs": [
    {
     "name": "stdout",
     "output_type": "stream",
     "text": [
      "22064832512\n"
     ]
    }
   ],
   "source": [
    "import wmi\n",
    "c = wmi.WMI()\n",
    "disk = c.Win32_LogicalDisk()[0]\n",
    "freespace = disk.freespace\n",
    "print(freespace)"
   ]
  },
  {
   "cell_type": "code",
   "execution_count": 26,
   "metadata": {
    "ExecuteTime": {
     "end_time": "2020-09-25T09:05:00.687145Z",
     "start_time": "2020-09-25T09:05:00.682160Z"
    },
    "cell_style": "split",
    "scrolled": true
   },
   "outputs": [
    {
     "name": "stdout",
     "output_type": "stream",
     "text": [
      "hello\n",
      "hello world \n",
      "h\n"
     ]
    }
   ],
   "source": [
    "a_string = \"hello world , i'm Mike\"\n",
    "\n",
    "a_list = a_string.split()\n",
    "print(a_list[0])\n",
    "a_list = a_string.split(\",\")\n",
    "print(a_list[0])\n",
    "\n",
    "a_list = list(a_string)\n",
    "print(a_list[0])"
   ]
  },
  {
   "cell_type": "markdown",
   "metadata": {},
   "source": [
    "**引入自定义模块**"
   ]
  },
  {
   "cell_type": "code",
   "execution_count": 7,
   "metadata": {
    "ExecuteTime": {
     "end_time": "2020-10-06T10:46:35.418365Z",
     "start_time": "2020-10-06T10:46:35.415348Z"
    }
   },
   "outputs": [
    {
     "name": "stdout",
     "output_type": "stream",
     "text": [
      "$$$$$$$$$$*****"
     ]
    }
   ],
   "source": [
    "from my_module import draw_bar as mydraw\n",
    "\n",
    "mydraw.draw_bar(10,\"$\")\n",
    "mydraw.draw_bar(5)"
   ]
  }
 ],
 "metadata": {
  "kernelspec": {
   "display_name": "Python 3",
   "language": "python",
   "name": "python3"
  },
  "language_info": {
   "codemirror_mode": {
    "name": "ipython",
    "version": 3
   },
   "file_extension": ".py",
   "mimetype": "text/x-python",
   "name": "python",
   "nbconvert_exporter": "python",
   "pygments_lexer": "ipython3",
   "version": "3.8.3"
  },
  "toc": {
   "base_numbering": 1,
   "nav_menu": {},
   "number_sections": true,
   "sideBar": true,
   "skip_h1_title": false,
   "title_cell": "Table of Contents",
   "title_sidebar": "Contents",
   "toc_cell": false,
   "toc_position": {
    "height": "calc(100% - 180px)",
    "left": "10px",
    "top": "150px",
    "width": "220px"
   },
   "toc_section_display": true,
   "toc_window_display": false
  },
  "varInspector": {
   "cols": {
    "lenName": 16,
    "lenType": 16,
    "lenVar": 40
   },
   "kernels_config": {
    "python": {
     "delete_cmd_postfix": "",
     "delete_cmd_prefix": "del ",
     "library": "var_list.py",
     "varRefreshCmd": "print(var_dic_list())"
    },
    "r": {
     "delete_cmd_postfix": ") ",
     "delete_cmd_prefix": "rm(",
     "library": "var_list.r",
     "varRefreshCmd": "cat(var_dic_list()) "
    }
   },
   "oldHeight": 235.66699999999997,
   "position": {
    "height": "257.667px",
    "left": "848px",
    "right": "20px",
    "top": "56px",
    "width": "350px"
   },
   "types_to_exclude": [
    "module",
    "function",
    "builtin_function_or_method",
    "instance",
    "_Feature"
   ],
   "varInspector_section_display": "block",
   "window_display": true
  }
 },
 "nbformat": 4,
 "nbformat_minor": 4
}
